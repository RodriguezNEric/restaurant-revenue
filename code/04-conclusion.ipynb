{
 "cells": [
  {
   "cell_type": "markdown",
   "metadata": {},
   "source": [
    "# Conclusion\n",
    "In conclusion, the features that are important in predicting the revenue of a restaurant include: (1) the city where the restaurant is located, (2) the size of the city, (3) the time duration that the restaurant has been open, and (4) an unknown variable called p2. Through our analysis, we determined that the best model for predicting restaurant revenue is the random forest regressor. Our production model achieved an R-squared score of 0.293 and an RMSE of 1,590,157 USD in terms of predicting revenue on unseen data. An R-squared score of 0.293 indicates that 29.3% of the variability in the target variable can be explained by the features we used. An RMSE of 1,590,157 USD means that our predictions for revenue were typically off by 1,590,157 USD from the actual revenue.\n",
    "\n",
    "Our next steps would involve trying to understand the details and relevance of the demographic, real estate, and commercial data (variables P1-P37) and to explore additional interaction terms. Given that the project was completed as part of a hackathon, we were limited on time and could not investigate all the unknown variables."
   ]
  }
 ],
 "metadata": {
  "kernelspec": {
   "display_name": "Python 3",
   "language": "python",
   "name": "python3"
  },
  "language_info": {
   "codemirror_mode": {
    "name": "ipython",
    "version": 3
   },
   "file_extension": ".py",
   "mimetype": "text/x-python",
   "name": "python",
   "nbconvert_exporter": "python",
   "pygments_lexer": "ipython3",
   "version": "3.8.5"
  }
 },
 "nbformat": 4,
 "nbformat_minor": 4
}
