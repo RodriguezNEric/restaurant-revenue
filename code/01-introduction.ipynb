{
 "cells": [
  {
   "cell_type": "markdown",
   "metadata": {},
   "source": [
    "# Predicting Restaurant Revenue"
   ]
  },
  {
   "cell_type": "markdown",
   "metadata": {},
   "source": [
    "**Note:** This project was adopted from a Kaggle competition called Restaurant Revenue Prediction and was completed as part of a Hackathon with four team members: Asia Roy, Eric Rodriguez, Gabrielle Burgos, and Jeremy Manning."
   ]
  },
  {
   "cell_type": "markdown",
   "metadata": {},
   "source": [
    "### Overview\n",
    "The notebooks have been divided into 4 sections:\n",
    "\n",
    "1. Introduction\n",
    "2. Data Cleaning, EDA & Data Visualization\n",
    "3. Pre-Processing & Modeling\n",
    "4. Conclusion"
   ]
  },
  {
   "cell_type": "markdown",
   "metadata": {},
   "source": [
    "### Problem Statement\n",
    "TFI, the company behind Burger King, Popeyes, and Arby's, spends heavily in developing new restaurant locations. Because the process requires lots of time and capital and could involve operating losses if executed poorly, TFI hired my group of data scientists to uncover insights using their data. By identifying optimal restaurant locations, TFI hopes to avoid incurring operating losses to fund other crucial business areas like innovation and employee training. The company has tasked us with developing a mathematical model that can incorporate demographic, real estate, and commercial data to predict the annual restaurant sales of 100,000 regional locations. We will use the root mean squared error (RMSE) and coefficient of determination (R-squared) to evaluate our model."
   ]
  },
  {
   "cell_type": "markdown",
   "metadata": {},
   "source": [
    "### Data Source\n",
    "The two files that were used for this project can be found on [Kaggle](https://www.kaggle.com/c/restaurant-revenue-prediction/data):\n",
    "- train.csv: This file contains all the training data.\n",
    "- test.csv: This file contains all the testing data."
   ]
  },
  {
   "cell_type": "markdown",
   "metadata": {},
   "source": [
    "### Data Dictionary\n",
    "[Kaggle's data dictionary](https://www.kaggle.com/c/restaurant-revenue-prediction/data) has been provided below:\n",
    "\n",
    "- Id : Restaurant id. \n",
    "- Open Date : opening date for a restaurant\n",
    "- City : City that the restaurant is in. Note that there are unicode in the names. \n",
    "- City Group: Type of the city. Big cities, or Other. \n",
    "- Type: Type of the restaurant. FC: Food Court, IL: Inline, DT: Drive Thru, MB: Mobile\n",
    "- P1, P2 - P37: There are three categories of these obfuscated data. Demographic data are gathered from third party providers with GIS systems. These include population in any given area, age and gender distribution, development scales. Real estate data mainly relate to the m2 of the location, front facade of the location, car park availability. Commercial data mainly include the existence of points of interest including schools, banks, other QSR operators.\n",
    "- Revenue: The revenue column indicates a (transformed) revenue of the restaurant in a given year and is the target of predictive analysis. Please note that the values are transformed so they don't mean real dollar values."
   ]
  },
  {
   "cell_type": "code",
   "execution_count": null,
   "metadata": {},
   "outputs": [],
   "source": []
  }
 ],
 "metadata": {
  "kernelspec": {
   "display_name": "Python 3",
   "language": "python",
   "name": "python3"
  },
  "language_info": {
   "codemirror_mode": {
    "name": "ipython",
    "version": 3
   },
   "file_extension": ".py",
   "mimetype": "text/x-python",
   "name": "python",
   "nbconvert_exporter": "python",
   "pygments_lexer": "ipython3",
   "version": "3.8.5"
  }
 },
 "nbformat": 4,
 "nbformat_minor": 4
}
